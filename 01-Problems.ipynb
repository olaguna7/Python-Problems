{
 "cells": [
  {
   "metadata": {},
   "cell_type": "markdown",
   "source": [
    "# Chapter 1: Python primer (exercises)\n",
    "### Reinforcement"
   ],
   "id": "75f801b658887c38"
  },
  {
   "metadata": {
    "ExecuteTime": {
     "end_time": "2025-03-22T07:51:39.124367Z",
     "start_time": "2025-03-22T07:51:39.078369Z"
    }
   },
   "cell_type": "code",
   "source": [
    "\"\"\"\n",
    "Exercise 1: Write a short Python function, is_multiple(n, m), that takes two integer values and\n",
    "returns true if n is a multiple of m, that is, n = mi for some integer i, and False otherwise\n",
    "\"\"\"\n",
    "\n",
    "def is_multiple(n, m):\n",
    "    if n % m == 0:\n",
    "        return True\n",
    "    return False\n",
    "\n",
    "print(is_multiple(4, 3))    # Should return false\n",
    "print(is_multiple(4, 2))    # Should return true"
   ],
   "id": "495a39b05d8dbac9",
   "outputs": [
    {
     "name": "stdout",
     "output_type": "stream",
     "text": [
      "False\n",
      "True\n"
     ]
    }
   ],
   "execution_count": 2
  },
  {
   "metadata": {
    "ExecuteTime": {
     "end_time": "2025-03-22T07:54:48.204371Z",
     "start_time": "2025-03-22T07:54:48.188402Z"
    }
   },
   "cell_type": "code",
   "source": [
    "\"\"\"\n",
    "Exercise 2: Write a short Python function, is_even(k), that takes an integer value and returns True\n",
    "if k is even, and False otherwise. However, your function cannot use the multiplication, modulo, or\n",
    "division operators.\n",
    "\"\"\"\n",
    "\n",
    "def is_even(k):\n",
    "    return k & 1 == 0   # Bitwise operation used\n",
    "\n",
    "print(is_even(4))\n",
    "print(is_even(5))"
   ],
   "id": "99fe9a03ec71e79a",
   "outputs": [
    {
     "name": "stdout",
     "output_type": "stream",
     "text": [
      "True\n",
      "False\n"
     ]
    }
   ],
   "execution_count": 3
  },
  {
   "metadata": {
    "ExecuteTime": {
     "end_time": "2025-03-22T07:57:49.870165Z",
     "start_time": "2025-03-22T07:57:49.854006Z"
    }
   },
   "cell_type": "code",
   "source": [
    "\"\"\"\n",
    "Exercise 3: Write a short Python function, minmax(data), that takes a sequence of one or more numbers,\n",
    "and returns the smallest and largest numbers, in the form of a tuple of length two. Do not use the\n",
    "built-in functions min or max in implementiong your solution.\n",
    "\"\"\"\n",
    "\n",
    "def minmax(data):\n",
    "    min = data[0]\n",
    "    max = data[0]\n",
    "    for number in data:\n",
    "        if number < min:\n",
    "            min = number\n",
    "        if number > max:\n",
    "            max = number\n",
    "\n",
    "    return (min, max)\n",
    "\n",
    "# Tests:\n",
    "print(\"(min, max) =\", minmax([1, 2, 3, 4, 5]))\n",
    "print(\"(min, max) =\", minmax([23, 4, 8, 9]))\n"
   ],
   "id": "2ca50019fbbdbae1",
   "outputs": [
    {
     "name": "stdout",
     "output_type": "stream",
     "text": [
      "(min, max) = (1, 5)\n",
      "(min, max) = (4, 23)\n"
     ]
    }
   ],
   "execution_count": 4
  },
  {
   "metadata": {
    "ExecuteTime": {
     "end_time": "2025-03-22T08:00:46.128487Z",
     "start_time": "2025-03-22T08:00:46.115241Z"
    }
   },
   "cell_type": "code",
   "source": [
    "\"\"\"\n",
    "Exercise 4: Write a short Python function that takes a positive integer n and returns the sum of the\n",
    "squares of all the positive integers smaller than n\n",
    "\"\"\"\n",
    "\n",
    "def sum_squares(n):     # This is the solution for exercise 5\n",
    "    return sum( k * k for k in range(1, n + 1) )\n",
    "\n",
    "# Another alternative, without the sum() function\n",
    "def sum_squares2(n):\n",
    "    sum = 0\n",
    "    for i in range(1, n + 1):\n",
    "        sum = sum + i * i\n",
    "    return sum\n",
    "\n",
    "# TESTS\n",
    "print(sum_squares(4))\n",
    "print(sum_squares2(4))\n",
    "print(sum_squares(5))\n",
    "print(sum_squares2(5))"
   ],
   "id": "f881aad060530afb",
   "outputs": [
    {
     "name": "stdout",
     "output_type": "stream",
     "text": [
      "30\n",
      "30\n",
      "55\n",
      "55\n"
     ]
    }
   ],
   "execution_count": 5
  },
  {
   "metadata": {
    "ExecuteTime": {
     "end_time": "2025-03-22T08:05:15.316165Z",
     "start_time": "2025-03-22T08:05:15.302685Z"
    }
   },
   "cell_type": "code",
   "source": [
    "\"\"\"\n",
    "Exercise 6: Write a short Python function that takes a positive integer n and returns the sum of the squares\n",
    "of the odd positive integers smaller than n.\n",
    "\n",
    "Exercise 7: Give a single command that computes the sum of the exercise 6\n",
    "\"\"\"\n",
    "\n",
    "# Solution of the exercise 6\n",
    "def sum_squares_odd(n):\n",
    "    sum = 0\n",
    "    for i in range(1, n + 1):\n",
    "        if i % 2 == 1:sum = sum + i * i\n",
    "    return sum\n",
    "\n",
    "# Solution of the exercise 7\n",
    "def sum_squares_odd2(n):\n",
    "    return sum( k * k for k in range(1, n + 1) if k % 2 == 1 )\n",
    "\n",
    "# TESTS\n",
    "print(sum_squares_odd(4))\n",
    "print(sum_squares_odd2(4))\n",
    "print(sum_squares_odd(5))\n",
    "print(sum_squares_odd2(5))"
   ],
   "id": "3ec3ec3c084221a7",
   "outputs": [
    {
     "name": "stdout",
     "output_type": "stream",
     "text": [
      "10\n",
      "10\n",
      "35\n",
      "35\n"
     ]
    }
   ],
   "execution_count": 6
  },
  {
   "metadata": {
    "ExecuteTime": {
     "end_time": "2025-03-22T08:10:37.401420Z",
     "start_time": "2025-03-22T08:10:37.383857Z"
    }
   },
   "cell_type": "code",
   "source": [
    "\"\"\"\n",
    "Exercise 9: What parameters should be sent to the range constructor, to produce a range with\n",
    "values 50, 60, 70, 80?\n",
    "\"\"\"\n",
    "\n",
    "# The first element is 50, and we sum each time 10, until we reach 80\n",
    "list(range(50, 90, 10))"
   ],
   "id": "47aa84bd08586a60",
   "outputs": [
    {
     "data": {
      "text/plain": [
       "[50, 60, 70, 80]"
      ]
     },
     "execution_count": 10,
     "metadata": {},
     "output_type": "execute_result"
    }
   ],
   "execution_count": 10
  },
  {
   "metadata": {
    "ExecuteTime": {
     "end_time": "2025-03-22T08:12:10.204739Z",
     "start_time": "2025-03-22T08:12:10.188671Z"
    }
   },
   "cell_type": "code",
   "source": [
    "\"\"\"\n",
    "Exercise 10: What parameters should be should be sent to the range constructor, to produce a\n",
    "range with values 8, 6, 4, 2, 0, -2, -4, -6, -8?\n",
    "\"\"\"\n",
    "\n",
    "list(range(8, -10, -2))"
   ],
   "id": "72eba7dffe121853",
   "outputs": [
    {
     "data": {
      "text/plain": [
       "[8, 6, 4, 2, 0, -2, -4, -6, -8]"
      ]
     },
     "execution_count": 11,
     "metadata": {},
     "output_type": "execute_result"
    }
   ],
   "execution_count": 11
  },
  {
   "metadata": {
    "ExecuteTime": {
     "end_time": "2025-03-22T08:14:02.436709Z",
     "start_time": "2025-03-22T08:14:02.420845Z"
    }
   },
   "cell_type": "code",
   "source": [
    "\"\"\"\n",
    "Exercise 11: Demonstrate how to use Python's list comprehension syntax to produce the list\n",
    "[1, 2, 4, 8, 16, 32, 64, 128, 256]\n",
    "\"\"\"\n",
    "\n",
    "# The goal is to produce the list of the powers 2^k from k = 0 to k = 8\n",
    "[ 2 ** k for k in range(0, 9) ]"
   ],
   "id": "807b2a8c4e8e864e",
   "outputs": [
    {
     "data": {
      "text/plain": [
       "[1, 2, 4, 8, 16, 32, 64, 128, 256]"
      ]
     },
     "execution_count": 13,
     "metadata": {},
     "output_type": "execute_result"
    }
   ],
   "execution_count": 13
  },
  {
   "metadata": {
    "ExecuteTime": {
     "end_time": "2025-03-22T08:19:44.213772Z",
     "start_time": "2025-03-22T08:19:44.165862Z"
    }
   },
   "cell_type": "code",
   "source": [
    "\"\"\"\n",
    "Exercise 12: Python's random module includes a function choice(data) that returns a random element\n",
    "from a non-empty sequence. The random module includes a more basic function randrange, with parametrization\n",
    "similar to the built-in range function, that return a random choice from the given range. Using only\n",
    "the randrange function, implement your own version of the choice function.\n",
    "\"\"\"\n",
    "\n",
    "import random\n",
    "\n",
    "def randomchoice(data):\n",
    "    return data[random.randrange(0, len(data))]\n",
    "\n",
    "# TEST\n",
    "data = [2, 3, 9, 20, 321, 0]\n",
    "# We'll print 20 random numbers from the data list\n",
    "for i in range(0, 20):\n",
    "    print(randomchoice(data), end = \" \")"
   ],
   "id": "42d35108090f4700",
   "outputs": [
    {
     "name": "stdout",
     "output_type": "stream",
     "text": [
      "321 20 20 0 3 2 20 3 20 0 0 3 0 321 321 2 9 0 20 9 "
     ]
    }
   ],
   "execution_count": 14
  },
  {
   "metadata": {},
   "cell_type": "markdown",
   "source": "### Creativity",
   "id": "3e8dcddf7ec4f5ae"
  },
  {
   "metadata": {
    "ExecuteTime": {
     "end_time": "2025-03-22T08:25:59.163136Z",
     "start_time": "2025-03-22T08:25:59.147193Z"
    }
   },
   "cell_type": "code",
   "source": [
    "\"\"\"\n",
    "Exercise 13: Write a function that reverses a list of n integers, so that the numbers are listed in\n",
    "the opposite order than they were before.\n",
    "\"\"\"\n",
    "\n",
    "def reverse(list):\n",
    "    result = []\n",
    "    for i in range(len(list) - 1, -1, -1):\n",
    "        result.append(list[i])\n",
    "    return result\n",
    "\n",
    "# TEST\n",
    "list = [0, 2, 9, 32]\n",
    "print(\"Original list:\", list)\n",
    "print(\"Reversed list:\", reverse(list))"
   ],
   "id": "6e257b28e7028583",
   "outputs": [
    {
     "name": "stdout",
     "output_type": "stream",
     "text": [
      "Original list: [0, 2, 9, 32]\n",
      "Reversed list: [32, 9, 2, 0]\n"
     ]
    }
   ],
   "execution_count": 17
  },
  {
   "metadata": {
    "ExecuteTime": {
     "end_time": "2025-03-22T08:28:42.624557Z",
     "start_time": "2025-03-22T08:28:42.612592Z"
    }
   },
   "cell_type": "code",
   "source": [
    "\"\"\"\n",
    "Exercise 14: Write a short Python function that takes a sequence of integer values and determines if there is\n",
    "a distinct pair of numbers in the sequence whose product is odd.\n",
    "\"\"\"\n",
    "\n",
    "def product_odd(data):\n",
    "    for i in range(0, len(data)):\n",
    "        for j in range(i + 1, len(data)):\n",
    "            if data[i] * data[j] % 2 == 1:\n",
    "                return True\n",
    "    return False;\n",
    "\n",
    "# TESTS\n",
    "print(product_odd([1, 2, 3, 4, 5]))\n",
    "print(product_odd([2, 4, 6, 8]))"
   ],
   "id": "ec743cf231e0791d",
   "outputs": [
    {
     "name": "stdout",
     "output_type": "stream",
     "text": [
      "True\n",
      "False\n"
     ]
    }
   ],
   "execution_count": 18
  },
  {
   "metadata": {
    "ExecuteTime": {
     "end_time": "2025-04-04T16:06:00.981483Z",
     "start_time": "2025-04-04T16:06:00.959173Z"
    }
   },
   "cell_type": "code",
   "source": [
    "\"\"\"\n",
    "Exercise 15: Write a Python function that takes a sequence of numbers and determines if all\n",
    "the numbers are different from each other (that is, they are distinct).\n",
    "\"\"\"\n",
    "\n",
    "def distinct_numbers(data):\n",
    "    for i in range(0, len(data)):\n",
    "        for j in range(i + 1, len(data)):\n",
    "            if data[i] == data[j]:\n",
    "                return False;\n",
    "    return True;\n",
    "\n",
    "print(distinct_numbers([1, 2, 3, 4, 5]))\n",
    "print(distinct_numbers([1, 2, 2, 3, 4]))"
   ],
   "id": "aafa553076d6d4e1",
   "outputs": [
    {
     "name": "stdout",
     "output_type": "stream",
     "text": [
      "True\n",
      "False\n"
     ]
    }
   ],
   "execution_count": 1
  },
  {
   "metadata": {
    "ExecuteTime": {
     "end_time": "2025-04-04T16:14:23.303761Z",
     "start_time": "2025-04-04T16:14:23.289261Z"
    }
   },
   "cell_type": "code",
   "source": [
    "\"\"\"\n",
    "Exercise 22: Write a short Python program that takes two arrays a and b of length n storing int\n",
    "values, and returns the dot product of a and b. That is, it returns an array c of length n\n",
    "such that c[i] = a[i] * b[i] , for i = 0, ..., n - 1\n",
    "\"\"\"\n",
    "\n",
    "def product_arrays(a, b):\n",
    "    result = []\n",
    "    for i in range(0, len(a)):\n",
    "        result.append(a[i] * b[i])\n",
    "    return result\n",
    "\n",
    "print(product_arrays([1, 2, 3, 4, 5], [1, 2, 3, 4, 5]))\n",
    "print(product_arrays([32, 3, 0, -2], [0, 0, 0, 0]))\n"
   ],
   "id": "da2ec572073bf0b0",
   "outputs": [
    {
     "name": "stdout",
     "output_type": "stream",
     "text": [
      "[1, 4, 9, 16, 25]\n",
      "[0, 0, 0, 0]\n"
     ]
    }
   ],
   "execution_count": 3
  },
  {
   "metadata": {
    "ExecuteTime": {
     "end_time": "2025-04-04T16:27:53.909166Z",
     "start_time": "2025-04-04T16:27:53.882221Z"
    }
   },
   "cell_type": "code",
   "source": [
    "\"\"\"\n",
    "Exercise 24: Write a short Python function that counts the number of vowels in a given character string\n",
    "\"\"\"\n",
    "\n",
    "def count_vowels(str):\n",
    "    result = 0\n",
    "    for char in str.lower():\n",
    "        if char in 'aeiou':\n",
    "            result += 1\n",
    "    return result\n",
    "\n",
    "print(\"number of vowels in the string \\\"Hello\\\" are\", count_vowels(\"Hello\"))\n",
    "print(\"number of vowels in the string \\\"World\\\" are\", count_vowels(\"World\"))"
   ],
   "id": "bdd17a1814ea90f2",
   "outputs": [
    {
     "name": "stdout",
     "output_type": "stream",
     "text": [
      "number of vowels in the string \"Hello\" are 2\n",
      "number of vowels in the string \"World\" are 1\n"
     ]
    }
   ],
   "execution_count": 4
  },
  {
   "metadata": {},
   "cell_type": "markdown",
   "source": "### Projects",
   "id": "8f7b1bf6a98cb16c"
  },
  {
   "metadata": {
    "ExecuteTime": {
     "end_time": "2025-04-04T17:01:25.164486Z",
     "start_time": "2025-04-04T17:01:25.155815Z"
    }
   },
   "cell_type": "code",
   "source": [
    "\"\"\"\n",
    "Write a Python program that can take a positive integer greater than 2\n",
    "as input and write out the number of times one must repeatedly\n",
    "divide this numbre by 2 before getting a value less than 2\n",
    "\"\"\"\n",
    "\n",
    "def count_divisions(number):\n",
    "    result = number\n",
    "    times_divided = 0\n",
    "    while result >= 2:\n",
    "        result = result / 2\n",
    "        times_divided += 1\n",
    "    return times_divided\n",
    "\n",
    "print(count_divisions(2))\n",
    "print(count_divisions(20))\n"
   ],
   "id": "1815651554009219",
   "outputs": [
    {
     "name": "stdout",
     "output_type": "stream",
     "text": [
      "1\n",
      "4\n"
     ]
    }
   ],
   "execution_count": 17
  },
  {
   "metadata": {
    "ExecuteTime": {
     "end_time": "2025-04-04T17:16:21.318983Z",
     "start_time": "2025-04-04T17:16:21.286036Z"
    }
   },
   "cell_type": "code",
   "source": [
    "\"\"\"\n",
    "The birthday paradox says that the probability that two people in a room\n",
    "will have the same birthday is more than half, provided n, the number of\n",
    "people in the room, is more than 23. this property is not really a\n",
    "paradox, but many people find it surprising. Design a Python program\n",
    "that can test this paradox by a series of experiments on randomly\n",
    "generated birthdays, which test this paradox for n = 5, 10, 15, 20, ..., 100\n",
    "\"\"\"\n",
    "import random\n",
    "\n",
    "# The parameter will be a list with a number between 1 and 365\n",
    "# randomly generated\n",
    "def coincident_birthdays(data):\n",
    "    for i in range(0, len(data)):\n",
    "        for j in range(i + 1, len(data)):\n",
    "            if data[i] == data[j]:\n",
    "                return True\n",
    "    return False\n",
    "\n",
    "for n in range(5, 105, 5):\n",
    "    list = random.sample(range(1, 366), n)\n",
    "    print(\"n =\", n)\n",
    "    print(\"List generated:\", list)\n",
    "    print(\"There are coincident birthdays?\", coincident_birthdays(list))"
   ],
   "id": "a9c8adb09fd2fcb1",
   "outputs": [
    {
     "name": "stdout",
     "output_type": "stream",
     "text": [
      "n = 5\n",
      "List generated: [72, 124, 281, 202, 111]\n",
      "There are coincident birthdays? False\n",
      "n = 10\n",
      "List generated: [365, 310, 361, 163, 240, 189, 149, 120, 199, 127]\n",
      "There are coincident birthdays? False\n",
      "n = 15\n",
      "List generated: [207, 205, 91, 119, 109, 279, 46, 164, 86, 234, 127, 29, 196, 313, 142]\n",
      "There are coincident birthdays? False\n",
      "n = 20\n",
      "List generated: [181, 7, 286, 76, 105, 2, 174, 103, 82, 197, 241, 8, 283, 360, 16, 245, 71, 161, 44, 81]\n",
      "There are coincident birthdays? False\n",
      "n = 25\n",
      "List generated: [48, 325, 76, 81, 128, 206, 340, 131, 68, 158, 93, 300, 79, 184, 203, 243, 298, 143, 352, 168, 54, 140, 321, 150, 221]\n",
      "There are coincident birthdays? False\n",
      "n = 30\n",
      "List generated: [72, 331, 264, 19, 316, 236, 238, 181, 149, 86, 312, 212, 319, 220, 279, 103, 13, 17, 248, 109, 108, 163, 255, 231, 306, 211, 219, 354, 344, 36]\n",
      "There are coincident birthdays? False\n",
      "n = 35\n",
      "List generated: [153, 286, 272, 224, 226, 70, 185, 143, 95, 150, 259, 131, 324, 316, 69, 243, 336, 96, 74, 248, 82, 81, 282, 62, 331, 284, 239, 180, 26, 318, 333, 60, 345, 208, 155]\n",
      "There are coincident birthdays? False\n",
      "n = 40\n",
      "List generated: [230, 109, 348, 73, 173, 295, 125, 254, 291, 119, 329, 71, 328, 362, 131, 199, 312, 181, 123, 255, 242, 56, 352, 124, 147, 183, 324, 184, 265, 178, 269, 363, 79, 55, 314, 78, 139, 310, 203, 28]\n",
      "There are coincident birthdays? False\n",
      "n = 45\n",
      "List generated: [327, 18, 104, 365, 294, 97, 23, 309, 89, 224, 335, 317, 55, 311, 135, 75, 278, 193, 42, 96, 274, 346, 244, 186, 354, 251, 341, 17, 54, 103, 10, 64, 100, 132, 111, 255, 304, 126, 340, 172, 178, 324, 190, 62, 235]\n",
      "There are coincident birthdays? False\n",
      "n = 50\n",
      "List generated: [192, 239, 313, 83, 228, 188, 143, 176, 283, 208, 66, 290, 100, 303, 246, 20, 84, 3, 255, 214, 251, 125, 43, 1, 79, 271, 204, 89, 71, 287, 163, 168, 242, 144, 211, 24, 354, 310, 349, 364, 51, 291, 161, 347, 150, 335, 199, 280, 142, 332]\n",
      "There are coincident birthdays? False\n",
      "n = 55\n",
      "List generated: [288, 80, 330, 327, 145, 248, 172, 321, 217, 308, 158, 344, 137, 232, 78, 65, 86, 183, 223, 309, 168, 143, 266, 339, 341, 5, 2, 323, 216, 88, 105, 44, 205, 180, 58, 70, 46, 310, 184, 272, 242, 162, 337, 274, 250, 104, 140, 298, 154, 15, 95, 160, 264, 271, 228]\n",
      "There are coincident birthdays? False\n",
      "n = 60\n",
      "List generated: [286, 20, 299, 313, 331, 330, 178, 211, 52, 115, 84, 81, 197, 31, 244, 183, 317, 260, 116, 96, 87, 184, 26, 106, 161, 168, 34, 163, 169, 28, 280, 78, 157, 321, 281, 60, 99, 14, 308, 266, 22, 146, 247, 110, 335, 204, 239, 208, 240, 328, 45, 182, 315, 37, 144, 257, 362, 364, 140, 59]\n",
      "There are coincident birthdays? False\n",
      "n = 65\n",
      "List generated: [116, 78, 114, 92, 178, 201, 293, 215, 117, 207, 154, 87, 18, 334, 331, 109, 8, 360, 110, 256, 27, 213, 31, 146, 359, 33, 83, 289, 309, 264, 329, 261, 270, 200, 212, 203, 131, 129, 6, 335, 30, 210, 71, 288, 29, 258, 59, 191, 300, 216, 248, 226, 344, 272, 194, 153, 63, 138, 336, 105, 268, 157, 355, 143, 318]\n",
      "There are coincident birthdays? False\n",
      "n = 70\n",
      "List generated: [1, 287, 31, 126, 267, 74, 144, 177, 193, 343, 346, 164, 216, 271, 225, 119, 158, 349, 57, 62, 344, 96, 114, 81, 338, 15, 264, 201, 152, 325, 242, 118, 25, 17, 184, 291, 56, 228, 156, 297, 362, 125, 21, 294, 145, 310, 172, 71, 2, 321, 250, 263, 157, 90, 226, 219, 16, 300, 30, 227, 76, 340, 318, 83, 209, 255, 256, 273, 305, 322]\n",
      "There are coincident birthdays? False\n",
      "n = 75\n",
      "List generated: [361, 8, 40, 107, 35, 131, 109, 257, 154, 45, 147, 141, 46, 159, 65, 69, 80, 239, 86, 142, 323, 200, 327, 81, 116, 329, 172, 279, 16, 165, 119, 6, 49, 133, 9, 297, 210, 325, 152, 201, 130, 271, 232, 205, 121, 241, 178, 258, 140, 71, 196, 308, 77, 266, 70, 330, 365, 164, 181, 20, 161, 228, 230, 194, 23, 263, 206, 268, 293, 28, 333, 60, 96, 48, 61]\n",
      "There are coincident birthdays? False\n",
      "n = 80\n",
      "List generated: [255, 222, 247, 291, 319, 223, 202, 326, 59, 316, 36, 12, 54, 111, 120, 361, 128, 125, 293, 268, 282, 238, 7, 339, 33, 55, 345, 48, 317, 220, 171, 204, 17, 145, 150, 205, 130, 144, 75, 163, 342, 315, 66, 323, 67, 259, 16, 188, 335, 270, 101, 23, 232, 250, 294, 355, 310, 8, 129, 14, 229, 151, 60, 136, 303, 182, 362, 318, 3, 327, 96, 235, 248, 236, 243, 34, 68, 122, 37, 162]\n",
      "There are coincident birthdays? False\n",
      "n = 85\n",
      "List generated: [328, 93, 202, 43, 192, 179, 295, 255, 21, 250, 119, 232, 49, 216, 226, 239, 23, 40, 165, 353, 155, 318, 257, 217, 228, 290, 224, 248, 324, 185, 168, 108, 30, 148, 100, 266, 292, 167, 51, 315, 264, 251, 182, 343, 365, 267, 249, 106, 230, 204, 29, 84, 120, 296, 293, 117, 55, 160, 4, 348, 275, 53, 122, 20, 142, 123, 273, 41, 36, 45, 274, 68, 125, 355, 50, 174, 101, 26, 111, 37, 98, 242, 22, 156, 69]\n",
      "There are coincident birthdays? False\n",
      "n = 90\n",
      "List generated: [247, 309, 360, 217, 237, 1, 184, 336, 79, 24, 149, 116, 96, 40, 198, 345, 173, 302, 3, 310, 305, 272, 92, 87, 356, 201, 45, 338, 185, 42, 9, 89, 179, 359, 120, 7, 228, 76, 321, 172, 170, 90, 227, 261, 175, 230, 150, 17, 234, 178, 78, 317, 296, 157, 275, 288, 71, 36, 308, 93, 61, 314, 192, 95, 94, 362, 233, 5, 240, 341, 154, 202, 218, 110, 353, 311, 62, 13, 124, 86, 226, 52, 196, 114, 213, 48, 194, 81, 244, 280]\n",
      "There are coincident birthdays? False\n",
      "n = 95\n",
      "List generated: [286, 248, 282, 95, 127, 353, 320, 214, 294, 89, 267, 5, 212, 326, 218, 160, 331, 83, 126, 74, 279, 81, 24, 42, 346, 77, 342, 245, 93, 233, 359, 57, 278, 52, 292, 123, 169, 168, 171, 339, 155, 114, 68, 113, 152, 266, 202, 322, 23, 78, 295, 309, 17, 276, 338, 194, 31, 291, 332, 259, 85, 197, 88, 183, 179, 329, 50, 172, 11, 255, 56, 275, 105, 25, 357, 30, 269, 80, 311, 288, 362, 82, 223, 49, 48, 53, 330, 251, 262, 7, 45, 75, 112, 65, 355]\n",
      "There are coincident birthdays? False\n",
      "n = 100\n",
      "List generated: [185, 323, 34, 260, 111, 208, 196, 117, 99, 204, 153, 40, 315, 322, 212, 172, 349, 138, 50, 179, 221, 19, 243, 274, 308, 51, 305, 244, 223, 41, 192, 254, 125, 142, 205, 301, 173, 175, 45, 286, 262, 320, 150, 114, 314, 299, 327, 267, 146, 297, 89, 342, 309, 240, 177, 270, 341, 215, 140, 162, 129, 16, 109, 123, 57, 338, 220, 54, 137, 12, 33, 46, 326, 202, 304, 101, 126, 224, 4, 311, 218, 206, 154, 66, 27, 300, 97, 108, 251, 247, 136, 226, 174, 64, 145, 105, 169, 360, 118, 265]\n",
      "There are coincident birthdays? False\n"
     ]
    }
   ],
   "execution_count": 20
  }
 ],
 "metadata": {
  "kernelspec": {
   "display_name": "Python 3",
   "language": "python",
   "name": "python3"
  },
  "language_info": {
   "codemirror_mode": {
    "name": "ipython",
    "version": 2
   },
   "file_extension": ".py",
   "mimetype": "text/x-python",
   "name": "python",
   "nbconvert_exporter": "python",
   "pygments_lexer": "ipython2",
   "version": "2.7.6"
  }
 },
 "nbformat": 4,
 "nbformat_minor": 5
}
